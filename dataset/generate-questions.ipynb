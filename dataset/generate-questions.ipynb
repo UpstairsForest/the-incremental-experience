{
 "cells": [
  {
   "cell_type": "code",
   "execution_count": 10,
   "metadata": {
    "collapsed": true
   },
   "outputs": [],
   "source": [
    "import json\n",
    "\n",
    "data = json.load(open(\"raw.json\"))"
   ]
  },
  {
   "cell_type": "code",
   "execution_count": 13,
   "outputs": [
    {
     "data": {
      "text/plain": "3"
     },
     "execution_count": 13,
     "metadata": {},
     "output_type": "execute_result"
    }
   ],
   "source": [
    "len(data)"
   ],
   "metadata": {
    "collapsed": false
   }
  },
  {
   "cell_type": "code",
   "execution_count": 16,
   "outputs": [],
   "source": [
    "prompt = \"\"\"You are reading a book about Psychology. Write three questions based on the chapter below.\"\"\"\n",
    "prompt += \"\\n\\n\"\n",
    "prompt += data[list(data.keys())[0]]"
   ],
   "metadata": {
    "collapsed": false
   }
  },
  {
   "cell_type": "code",
   "execution_count": 22,
   "outputs": [
    {
     "data": {
      "text/plain": "cohere.Generations {\n\tid: None\n\tgenerations: [cohere.Generation {\n\tid: 4cd05d68-c852-4066-8f0e-add8a898a02a\n\ttext: \n\n1. What are the different types of loneliness?\n2. How can emotional loneliness start in childhood?\n3. What are the effects of growing up in a family with emotionally immature parents?\n\tlikelihood: None\n\ttoken_likelihoods: None\n}]\n\treturn_likelihoods: NONE\n}"
     },
     "execution_count": 22,
     "metadata": {},
     "output_type": "execute_result"
    }
   ],
   "source": [
    "import cohere\n",
    "\n",
    "co = cohere.Client('Kwi3nCYBE9ihcpvY8TNa3DTsCe0rKGGXqOnmrVrh')\n",
    "response = co.generate(\n",
    "    model='command-xlarge-20221108',\n",
    "    prompt=prompt,\n",
    "    max_tokens=200,\n",
    "    temperature=0.1,\n",
    "    k=0,\n",
    "    p=1,\n",
    "    frequency_penalty=0,\n",
    "    presence_penalty=0,\n",
    "    stop_sequences=[],\n",
    "    return_likelihoods='NONE',\n",
    ")\n",
    "response"
   ],
   "metadata": {
    "collapsed": false
   }
  },
  {
   "cell_type": "code",
   "execution_count": null,
   "outputs": [],
   "source": [],
   "metadata": {
    "collapsed": false
   }
  }
 ],
 "metadata": {
  "kernelspec": {
   "display_name": "Python 3",
   "language": "python",
   "name": "python3"
  },
  "language_info": {
   "codemirror_mode": {
    "name": "ipython",
    "version": 2
   },
   "file_extension": ".py",
   "mimetype": "text/x-python",
   "name": "python",
   "nbconvert_exporter": "python",
   "pygments_lexer": "ipython2",
   "version": "2.7.6"
  }
 },
 "nbformat": 4,
 "nbformat_minor": 0
}
