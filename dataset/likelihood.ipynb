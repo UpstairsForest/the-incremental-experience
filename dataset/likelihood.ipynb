{
 "cells": [
  {
   "cell_type": "code",
   "execution_count": 1,
   "outputs": [],
   "source": [
    "import cohere\n",
    "import json\n",
    "\n",
    "raw = json.load(open(\"raw.json\"))"
   ],
   "metadata": {
    "collapsed": false
   }
  },
  {
   "cell_type": "code",
   "execution_count": 24,
   "outputs": [],
   "source": [
    "import random\n",
    "\n",
    "random_keys = random.choices(list(raw.keys()), k=5)\n",
    "random_sentences = set([raw[key].split(\".\")[3].strip() for key in random_keys])"
   ],
   "metadata": {
    "collapsed": false
   }
  },
  {
   "cell_type": "code",
   "execution_count": 25,
   "outputs": [
    {
     "data": {
      "text/plain": "{'As a result, they have an oversimplified approach to life, narrowing situations down to fit their rigid coping skills',\n 'If anyone else is going to get a chance to be heard, someone will have to force an abrupt transition—something many people aren’t willing to do',\n 'Or they may puff up in anger toward anything they dislike',\n 'People who are emotionally mature can function independently while also having deep emotional attachments, smoothly incorporating both into their daily life',\n 'Their personalities are like stunted bonsai trees, trained to grow in unnatural shapes'}"
     },
     "execution_count": 25,
     "metadata": {},
     "output_type": "execute_result"
    }
   ],
   "source": [
    "random_sentences"
   ],
   "metadata": {
    "collapsed": false
   }
  },
  {
   "cell_type": "code",
   "execution_count": 32,
   "outputs": [
    {
     "name": "stdout",
     "output_type": "stream",
     "text": [
      "Likelihood base  : -2.0722558\n",
      "Likelihood custom: -2.0722675\n",
      "Custom is better  False\n",
      "Likelihood base  : -1.394558\n",
      "Likelihood custom: -3.7837834\n",
      "Custom is better  False\n",
      "Likelihood base  : -2.198493\n",
      "Likelihood custom: -2.1977181\n",
      "Custom is better  True\n",
      "Likelihood base  : -0.7104423\n",
      "Likelihood custom: -0.4282211\n",
      "Custom is better  True\n",
      "Likelihood base  : -1.7079351\n",
      "Likelihood custom: -1.9527127\n",
      "Custom is better  False\n",
      "Likelihood base  : -2.0722558\n",
      "Likelihood custom: -2.0722675\n",
      "Custom is better  False\n",
      "Likelihood base  : -0.29148415\n",
      "Likelihood custom: -0.3813568\n",
      "Custom is better  False\n"
     ]
    }
   ],
   "source": [
    "co = cohere.Client('Kwi3nCYBE9ihcpvY8TNa3DTsCe0rKGGXqOnmrVrh')  # This is your trial API key\n",
    "kwargs = dict(\n",
    "    max_tokens=300,\n",
    "    temperature=0.1,\n",
    "    k=0,\n",
    "    p=0.75,\n",
    "    frequency_penalty=0,\n",
    "    presence_penalty=0,\n",
    "    stop_sequences=[],\n",
    "    return_likelihoods='ALL'\n",
    ")\n",
    "\n",
    "for sentence in random_sentences:\n",
    "    base = co.generate(prompt=sentence, model='command-xlarge', **kwargs)\n",
    "    custom = co.generate(prompt=sentence, model='command-xlarge-20221108', **kwargs)\n",
    "    base_lh = base.generations[0].likelihood\n",
    "    custom_lh = custom.generations[0].likelihood\n",
    "    print('Likelihood base  : {}'.format(base_lh))\n",
    "    print('Likelihood custom: {}'.format(custom_lh))\n",
    "    print('Custom is better ', custom_lh > base_lh)\n"
   ],
   "metadata": {
    "collapsed": false
   }
  },
  {
   "cell_type": "code",
   "execution_count": 33,
   "outputs": [
    {
     "data": {
      "text/plain": "5"
     },
     "execution_count": 33,
     "metadata": {},
     "output_type": "execute_result"
    }
   ],
   "source": [
    "len(random_sentences)"
   ],
   "metadata": {
    "collapsed": false
   }
  },
  {
   "cell_type": "code",
   "execution_count": null,
   "outputs": [],
   "source": [],
   "metadata": {
    "collapsed": false
   }
  }
 ],
 "metadata": {
  "kernelspec": {
   "display_name": "Python 3",
   "language": "python",
   "name": "python3"
  },
  "language_info": {
   "codemirror_mode": {
    "name": "ipython",
    "version": 2
   },
   "file_extension": ".py",
   "mimetype": "text/x-python",
   "name": "python",
   "nbconvert_exporter": "python",
   "pygments_lexer": "ipython2",
   "version": "2.7.6"
  }
 },
 "nbformat": 4,
 "nbformat_minor": 0
}
